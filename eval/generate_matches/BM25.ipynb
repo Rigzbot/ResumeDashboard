{
 "cells": [
  {
   "cell_type": "code",
   "execution_count": null,
   "id": "796985cd",
   "metadata": {},
   "outputs": [
    {
     "name": "stderr",
     "output_type": "stream",
     "text": [
      "/Users/rishikgupta/Documents/A&M Courses/ISR 670/Project/.venv/lib/python3.11/site-packages/tqdm/auto.py:21: TqdmWarning: IProgress not found. Please update jupyter and ipywidgets. See https://ipywidgets.readthedocs.io/en/stable/user_install.html\n",
      "  from .autonotebook import tqdm as notebook_tqdm\n"
     ]
    }
   ],
   "source": [
    "import pandas as pd\n",
    "from tqdm import tqdm\n",
    "import numpy as np\n",
    "from rank_bm25 import BM25Okapi"
   ]
  },
  {
   "cell_type": "code",
   "execution_count": 17,
   "id": "fc3f518d",
   "metadata": {},
   "outputs": [
    {
     "data": {
      "text/html": [
       "<div>\n",
       "<style scoped>\n",
       "    .dataframe tbody tr th:only-of-type {\n",
       "        vertical-align: middle;\n",
       "    }\n",
       "\n",
       "    .dataframe tbody tr th {\n",
       "        vertical-align: top;\n",
       "    }\n",
       "\n",
       "    .dataframe thead th {\n",
       "        text-align: right;\n",
       "    }\n",
       "</style>\n",
       "<table border=\"1\" class=\"dataframe\">\n",
       "  <thead>\n",
       "    <tr style=\"text-align: right;\">\n",
       "      <th></th>\n",
       "      <th>company_name</th>\n",
       "      <th>title</th>\n",
       "      <th>description</th>\n",
       "      <th>salary</th>\n",
       "      <th>location</th>\n",
       "      <th>formatted_experience_level</th>\n",
       "      <th>skills_desc</th>\n",
       "      <th>work_type</th>\n",
       "      <th>zip_code</th>\n",
       "      <th>job_matching</th>\n",
       "    </tr>\n",
       "  </thead>\n",
       "  <tbody>\n",
       "    <tr>\n",
       "      <th>0</th>\n",
       "      <td>Essentia Health</td>\n",
       "      <td>Long Term Care Administrator</td>\n",
       "      <td>Looking to Make a Difference in Someone’s Life...</td>\n",
       "      <td>110000.0</td>\n",
       "      <td>Virginia, MN</td>\n",
       "      <td>Director</td>\n",
       "      <td>NaN</td>\n",
       "      <td>FULL_TIME</td>\n",
       "      <td>55792.0</td>\n",
       "      <td>Long Term Care Administrator Looking to Make a...</td>\n",
       "    </tr>\n",
       "    <tr>\n",
       "      <th>1</th>\n",
       "      <td>STIIIZY</td>\n",
       "      <td>Retail Procurement Assistant</td>\n",
       "      <td>We are seeking a proactive and detail-oriented...</td>\n",
       "      <td>58240.0</td>\n",
       "      <td>Los Angeles, CA</td>\n",
       "      <td>Associate</td>\n",
       "      <td>NaN</td>\n",
       "      <td>FULL_TIME</td>\n",
       "      <td>90001.0</td>\n",
       "      <td>Retail Procurement Assistant We are seeking a ...</td>\n",
       "    </tr>\n",
       "    <tr>\n",
       "      <th>2</th>\n",
       "      <td>Net2Source Inc.</td>\n",
       "      <td>Quality Control Inspector</td>\n",
       "      <td>Title: Product Quality Inspector Location: Alp...</td>\n",
       "      <td>104000.0</td>\n",
       "      <td>Alpharetta, GA</td>\n",
       "      <td>Associate</td>\n",
       "      <td>NaN</td>\n",
       "      <td>CONTRACT</td>\n",
       "      <td>30004.0</td>\n",
       "      <td>Quality Control Inspector Title: Product Quali...</td>\n",
       "    </tr>\n",
       "    <tr>\n",
       "      <th>3</th>\n",
       "      <td>Swoon</td>\n",
       "      <td>Creative Project Manager - 79439</td>\n",
       "      <td>Our client is a Fortune 100 company &amp; leading ...</td>\n",
       "      <td>70720.0</td>\n",
       "      <td>Chicago, IL</td>\n",
       "      <td>Associate</td>\n",
       "      <td>NaN</td>\n",
       "      <td>CONTRACT</td>\n",
       "      <td>60601.0</td>\n",
       "      <td>Creative Project Manager - 79439 Our client is...</td>\n",
       "    </tr>\n",
       "    <tr>\n",
       "      <th>4</th>\n",
       "      <td>Murphy USA</td>\n",
       "      <td>CASHIER (full-time &amp; part-time opportunities)</td>\n",
       "      <td>Job Posting\\n\\nAs one of the largest national ...</td>\n",
       "      <td>28080.0</td>\n",
       "      <td>Lapeer, MI</td>\n",
       "      <td>Entry level</td>\n",
       "      <td>NaN</td>\n",
       "      <td>PART_TIME</td>\n",
       "      <td>48446.0</td>\n",
       "      <td>CASHIER (full-time &amp; part-time opportunities) ...</td>\n",
       "    </tr>\n",
       "  </tbody>\n",
       "</table>\n",
       "</div>"
      ],
      "text/plain": [
       "      company_name                                          title  \\\n",
       "0  Essentia Health                   Long Term Care Administrator   \n",
       "1          STIIIZY                   Retail Procurement Assistant   \n",
       "2  Net2Source Inc.                      Quality Control Inspector   \n",
       "3            Swoon               Creative Project Manager - 79439   \n",
       "4       Murphy USA  CASHIER (full-time & part-time opportunities)   \n",
       "\n",
       "                                         description    salary  \\\n",
       "0  Looking to Make a Difference in Someone’s Life...  110000.0   \n",
       "1  We are seeking a proactive and detail-oriented...   58240.0   \n",
       "2  Title: Product Quality Inspector Location: Alp...  104000.0   \n",
       "3  Our client is a Fortune 100 company & leading ...   70720.0   \n",
       "4  Job Posting\\n\\nAs one of the largest national ...   28080.0   \n",
       "\n",
       "          location formatted_experience_level skills_desc  work_type  \\\n",
       "0     Virginia, MN                   Director         NaN  FULL_TIME   \n",
       "1  Los Angeles, CA                  Associate         NaN  FULL_TIME   \n",
       "2   Alpharetta, GA                  Associate         NaN   CONTRACT   \n",
       "3      Chicago, IL                  Associate         NaN   CONTRACT   \n",
       "4       Lapeer, MI                Entry level         NaN  PART_TIME   \n",
       "\n",
       "   zip_code                                       job_matching  \n",
       "0   55792.0  Long Term Care Administrator Looking to Make a...  \n",
       "1   90001.0  Retail Procurement Assistant We are seeking a ...  \n",
       "2   30004.0  Quality Control Inspector Title: Product Quali...  \n",
       "3   60601.0  Creative Project Manager - 79439 Our client is...  \n",
       "4   48446.0  CASHIER (full-time & part-time opportunities) ...  "
      ]
     },
     "execution_count": 17,
     "metadata": {},
     "output_type": "execute_result"
    }
   ],
   "source": [
    "df = pd.read_csv('data/job_postings_cleaned.csv')  # Load your dataset\n",
    "df.head()"
   ]
  },
  {
   "cell_type": "code",
   "execution_count": 9,
   "id": "f231f3f2",
   "metadata": {},
   "outputs": [],
   "source": [
    "tokenized_jobs = [job_text.split() for job_text in df['job_matching']]\n",
    "bm25 = BM25Okapi(tokenized_jobs)"
   ]
  },
  {
   "cell_type": "code",
   "execution_count": 12,
   "id": "a7948a36",
   "metadata": {},
   "outputs": [
    {
     "name": "stderr",
     "output_type": "stream",
     "text": [
      "100%|██████████| 20/20 [00:23<00:00,  1.17s/it]\n"
     ]
    }
   ],
   "source": [
    "resume_df = pd.read_csv('data/resume_queries.csv')\n",
    "\n",
    "resume_texts = resume_df['Resume_str'].tolist()\n",
    "\n",
    "# for each resume text, get the top 10 job matches\n",
    "results = {}\n",
    "for resume_text in tqdm(resume_texts):\n",
    "    resume_tokens = resume_text.lower().split()  # basic tokenization\n",
    "    scores = bm25.get_scores(resume_tokens)\n",
    "    \n",
    "    top_indices = np.argsort(scores)[::-1][:10]\n",
    "    top_jobs = df.iloc[top_indices].copy()\n",
    "    top_jobs['bm25_score'] = [scores[i] for i in top_indices]\n",
    "\n",
    "    results[resume_text] = top_jobs"
   ]
  },
  {
   "cell_type": "code",
   "execution_count": 15,
   "id": "35ee4663",
   "metadata": {},
   "outputs": [],
   "source": [
    "flattened_rows = []\n",
    "\n",
    "for resume_text, top_matches_df in results.items():\n",
    "    # Add the resume text as a new column, repeated for each row\n",
    "    temp_df = top_matches_df.copy()\n",
    "    temp_df.insert(0, 'resume_text', resume_text)\n",
    "    flattened_rows.append(temp_df)\n",
    "\n",
    "# Concatenate all into one DataFrame\n",
    "final_df = pd.concat(flattened_rows, ignore_index=True)\n",
    "\n",
    "# Save to CSV\n",
    "final_df.to_csv('BM25.csv', index=False)"
   ]
  }
 ],
 "metadata": {
  "kernelspec": {
   "display_name": ".venv",
   "language": "python",
   "name": "python3"
  },
  "language_info": {
   "codemirror_mode": {
    "name": "ipython",
    "version": 3
   },
   "file_extension": ".py",
   "mimetype": "text/x-python",
   "name": "python",
   "nbconvert_exporter": "python",
   "pygments_lexer": "ipython3",
   "version": "3.11.11"
  }
 },
 "nbformat": 4,
 "nbformat_minor": 5
}
